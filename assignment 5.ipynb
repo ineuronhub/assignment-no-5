{
  "metadata": {
    "language_info": {
      "codemirror_mode": {
        "name": "python",
        "version": 3
      },
      "file_extension": ".py",
      "mimetype": "text/x-python",
      "name": "python",
      "nbconvert_exporter": "python",
      "pygments_lexer": "ipython3",
      "version": "3.8"
    },
    "kernelspec": {
      "name": "python",
      "display_name": "Python (Pyodide)",
      "language": "python"
    }
  },
  "nbformat_minor": 4,
  "nbformat": 4,
  "cells": [
    {
      "cell_type": "code",
      "source": "1. The empty dictionary's code look like set {}",
      "metadata": {},
      "execution_count": null,
      "outputs": []
    },
    {
      "cell_type": "code",
      "source": "2.dict={'foo':42}",
      "metadata": {},
      "execution_count": null,
      "outputs": []
    },
    {
      "cell_type": "code",
      "source": "3.Dictionary is an associative data structure means that the items are stored in non linear fashion.\n  List is a linear data structure,elements are stored in linear order one after other.\n Dictionary has key:value pair.each value is associated with a key. and key and values are separated by colon (:)\n List is just like a array.\n list are enclosed in square brackets[].\n Dictionary are enclosed in curly braces{}.\n dictionary are changeable(mutable).\n list are also changeable(mutable).  \n ",
      "metadata": {},
      "execution_count": null,
      "outputs": []
    },
    {
      "cell_type": "code",
      "source": "4.Original dictionary is \ndict={'bar': 100}\ndict\nwhen we replace bar=foo  \ndict={'foo'=100}\ndict\nThere is no difference",
      "metadata": {
        "trusted": true
      },
      "execution_count": 3,
      "outputs": [
        {
          "execution_count": 3,
          "output_type": "execute_result",
          "data": {
            "text/plain": "{'bar': 100}"
          },
          "metadata": {}
        }
      ]
    },
    {
      "cell_type": "code",
      "source": "5.spam={'cat':1,'dog':2,'tiger':3}\nspam.keys()\noutput = dict_keys(['cat', 'dog', 'tiger']) There is no difference",
      "metadata": {
        "trusted": true
      },
      "execution_count": 7,
      "outputs": [
        {
          "execution_count": 7,
          "output_type": "execute_result",
          "data": {
            "text/plain": "dict_keys(['cat', 'dog', 'tiger'])"
          },
          "metadata": {}
        }
      ]
    },
    {
      "cell_type": "code",
      "source": "6.spam={'cat':1,'dog':2,'tiger':3}\nspam.values()\noutput=dict_values([1, 2, 3]) There is no difference",
      "metadata": {
        "trusted": true
      },
      "execution_count": 8,
      "outputs": [
        {
          "execution_count": 8,
          "output_type": "execute_result",
          "data": {
            "text/plain": "dict_values([1, 2, 3])"
          },
          "metadata": {}
        }
      ]
    },
    {
      "cell_type": "code",
      "source": "7.spam{'color':'black'}",
      "metadata": {},
      "execution_count": null,
      "outputs": []
    },
    {
      "cell_type": "code",
      "source": "8.The preety print is module in python is utility module which we can use for print data structure.\nIt’s a part of the standard library that’s especially useful for debugging code.",
      "metadata": {},
      "execution_count": null,
      "outputs": []
    }
  ]
}